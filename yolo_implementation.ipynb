{
 "cells": [
  {
   "cell_type": "code",
   "execution_count": 1,
   "metadata": {},
   "outputs": [],
   "source": [
    "import cv2\n",
    "import numpy as np\n",
    "import matplotlib.pyplot as plt"
   ]
  },
  {
   "cell_type": "code",
   "execution_count": 99,
   "metadata": {},
   "outputs": [
    {
     "data": {
      "text/plain": [
       "<dnn_Net 00000277928610B0>"
      ]
     },
     "execution_count": 99,
     "metadata": {},
     "output_type": "execute_result"
    }
   ],
   "source": [
    "\n",
    "### loading the model files\n",
    "net = cv2.dnn.readNet('yolov3.weights','yolov3.cfg')\n",
    "net"
   ]
  },
  {
   "cell_type": "code",
   "execution_count": 100,
   "metadata": {},
   "outputs": [],
   "source": [
    "\n",
    "### reading the whole classes can be detected\n",
    "\n",
    "with open('coco.names','r') as f:\n",
    "    classes = ([line.strip() for line in f.readlines()])"
   ]
  },
  {
   "cell_type": "code",
   "execution_count": 101,
   "metadata": {},
   "outputs": [
    {
     "data": {
      "text/plain": [
       "80"
      ]
     },
     "execution_count": 101,
     "metadata": {},
     "output_type": "execute_result"
    }
   ],
   "source": [
    "len(classes) #here 80 classes can be detected using yolo"
   ]
  },
  {
   "cell_type": "code",
   "execution_count": 102,
   "metadata": {},
   "outputs": [
    {
     "name": "stdout",
     "output_type": "stream",
     "text": [
      "[array([200], dtype=int32), array([227], dtype=int32), array([254], dtype=int32)]\n"
     ]
    }
   ],
   "source": [
    "print([i for i in net.getUnconnectedOutLayers()]) # outptut layer  is 77th layer "
   ]
  },
  {
   "cell_type": "code",
   "execution_count": 103,
   "metadata": {},
   "outputs": [
    {
     "name": "stdout",
     "output_type": "stream",
     "text": [
      "['yolo_82', 'yolo_94', 'yolo_106']\n"
     ]
    }
   ],
   "source": [
    "# defining the input and output layer in yolo\n",
    "layer_names = net.getLayerNames()\n",
    "# output_layers = [layer_names[i[0] - 1] for i in net.getUnconnectedOutLayers()] # this is the output detection layer\n",
    "output_layers = net.getUnconnectedOutLayersNames()\n",
    "# these are 2 methods to find the last layers for detection\n",
    "print(output_layers)\n",
    "\n"
   ]
  },
  {
   "cell_type": "code",
   "execution_count": 122,
   "metadata": {},
   "outputs": [],
   "source": [
    "#### Loading the image\n",
    "\n",
    "img = cv2.imread('office.jpg')\n",
    "# img = cv2.resize(img,(500,500))\n",
    "height, width , channel = img.shape\n"
   ]
  },
  {
   "cell_type": "code",
   "execution_count": 123,
   "metadata": {},
   "outputs": [],
   "source": [
    "### detecting the objects and making the input to yolo\n",
    "blob = cv2.dnn.blobFromImage(img, 1/255,(416,416),(0,0,0),  swapRB = True , crop = True)\n",
    "\n",
    "# True refers to converting into rgb format since opencv uses bgr.\n",
    "\n",
    "net.setInput(blob)  \n",
    "\n",
    "# Passing blob image to yolo algo in network\n",
    "\n",
    "outs = net.forward(output_layers)  \n",
    "\n",
    "# Giving network to output layer for final result."
   ]
  },
  {
   "cell_type": "code",
   "execution_count": 124,
   "metadata": {},
   "outputs": [
    {
     "data": {
      "text/plain": [
       "<dnn_Net 00000277928610B0>"
      ]
     },
     "execution_count": 124,
     "metadata": {},
     "output_type": "execute_result"
    }
   ],
   "source": [
    "\n",
    "net"
   ]
  },
  {
   "cell_type": "code",
   "execution_count": 125,
   "metadata": {},
   "outputs": [
    {
     "data": {
      "text/plain": [
       "(507, 85)"
      ]
     },
     "execution_count": 125,
     "metadata": {},
     "output_type": "execute_result"
    }
   ],
   "source": [
    "\n",
    "outs[0].shape"
   ]
  },
  {
   "cell_type": "code",
   "execution_count": 126,
   "metadata": {},
   "outputs": [
    {
     "data": {
      "text/plain": [
       "array([3.1609368e-02, 4.2853754e-02, 3.5674292e-01, 1.5416437e-01,\n",
       "       2.1074634e-08, 0.0000000e+00, 0.0000000e+00, 0.0000000e+00,\n",
       "       0.0000000e+00, 0.0000000e+00, 0.0000000e+00, 0.0000000e+00,\n",
       "       0.0000000e+00, 0.0000000e+00, 0.0000000e+00, 0.0000000e+00,\n",
       "       0.0000000e+00, 0.0000000e+00, 0.0000000e+00, 0.0000000e+00,\n",
       "       0.0000000e+00, 0.0000000e+00, 0.0000000e+00, 0.0000000e+00,\n",
       "       0.0000000e+00, 0.0000000e+00, 0.0000000e+00, 0.0000000e+00,\n",
       "       0.0000000e+00, 0.0000000e+00, 0.0000000e+00, 0.0000000e+00,\n",
       "       0.0000000e+00, 0.0000000e+00, 0.0000000e+00, 0.0000000e+00,\n",
       "       0.0000000e+00, 0.0000000e+00, 0.0000000e+00, 0.0000000e+00,\n",
       "       0.0000000e+00, 0.0000000e+00, 0.0000000e+00, 0.0000000e+00,\n",
       "       0.0000000e+00, 0.0000000e+00, 0.0000000e+00, 0.0000000e+00,\n",
       "       0.0000000e+00, 0.0000000e+00, 0.0000000e+00, 0.0000000e+00,\n",
       "       0.0000000e+00, 0.0000000e+00, 0.0000000e+00, 0.0000000e+00,\n",
       "       0.0000000e+00, 0.0000000e+00, 0.0000000e+00, 0.0000000e+00,\n",
       "       0.0000000e+00, 0.0000000e+00, 0.0000000e+00, 0.0000000e+00,\n",
       "       0.0000000e+00, 0.0000000e+00, 0.0000000e+00, 0.0000000e+00,\n",
       "       0.0000000e+00, 0.0000000e+00, 0.0000000e+00, 0.0000000e+00,\n",
       "       0.0000000e+00, 0.0000000e+00, 0.0000000e+00, 0.0000000e+00,\n",
       "       0.0000000e+00, 0.0000000e+00, 0.0000000e+00, 0.0000000e+00,\n",
       "       0.0000000e+00, 0.0000000e+00, 0.0000000e+00, 0.0000000e+00,\n",
       "       0.0000000e+00], dtype=float32)"
      ]
     },
     "execution_count": 126,
     "metadata": {},
     "output_type": "execute_result"
    }
   ],
   "source": [
    "outs[0][0]"
   ]
  },
  {
   "cell_type": "code",
   "execution_count": 127,
   "metadata": {},
   "outputs": [],
   "source": [
    "class_ids = []\n",
    "confidences = []\n",
    "boxes = []\n",
    "\n",
    "for output in outs:\n",
    "    for detection in output:\n",
    "        score = detection[5:]\n",
    "        class_id = np.argmax(score)\n",
    "        confidence = score[class_id]\n",
    "        if confidence > 0.5:\n",
    "                 # Object detected\n",
    "\n",
    "            center_x = int(detection[0] * width)\n",
    "\n",
    "            center_y = int(detection[1] * height)\n",
    "\n",
    "            w = int(detection[2] * width)\n",
    "\n",
    "            h = int(detection[3] * height)\n",
    "\n",
    "            # Rectangle coordinates\n",
    "\n",
    "            x = int(center_x - w / 2)\n",
    "\n",
    "            y = int(center_y - h / 2)\n",
    "\n",
    "            boxes.append([x, y, w, h])\n",
    "\n",
    "            confidences.append(float(confidence))\n",
    "\n",
    "            class_ids.append(class_id)\n",
    "        "
   ]
  },
  {
   "cell_type": "code",
   "execution_count": 128,
   "metadata": {},
   "outputs": [],
   "source": [
    "img = img.copy()"
   ]
  },
  {
   "cell_type": "code",
   "execution_count": 129,
   "metadata": {},
   "outputs": [],
   "source": [
    "indexes = cv2.dnn.NMSBoxes(boxes, confidences, 0.5, 0.4) \n",
    "colors = np.random.uniform(0, 255, size=(len(classes), 3))\n",
    "# NMS - non max supression\n",
    "\n",
    "#print(indexes)\n",
    "\n",
    "font = cv2.FONT_HERSHEY_PLAIN\n",
    "\n",
    "for i in range(len(boxes)):\n",
    "\n",
    "    if i in indexes:\n",
    "\n",
    "        x, y, w, h = boxes[i]\n",
    "\n",
    "        label = str(classes[class_ids[i]])\n",
    "\n",
    "        color = colors[i]\n",
    "\n",
    "        cv2.rectangle(img, (x, y), (x + w, y + h), color, 2) \n",
    "\n",
    "        # Draw rectangle around boxes. '2' is the width of box.\n",
    "\n",
    "        cv2.putText(img, label, (x, y + 30), font, 2, color, 2)\n",
    "\n",
    "        # Text in Box to label the object"
   ]
  },
  {
   "cell_type": "code",
   "execution_count": 130,
   "metadata": {},
   "outputs": [],
   "source": [
    "cv2.imshow(\"Image\", img) \n",
    "\n",
    "cv2.waitKey(0) \n",
    "\n",
    " # waitkey stops the output\n",
    "\n",
    "cv2.destroyAllWindows()\n"
   ]
  },
  {
   "cell_type": "code",
   "execution_count": null,
   "metadata": {},
   "outputs": [],
   "source": []
  }
 ],
 "metadata": {
  "kernelspec": {
   "display_name": "Python 3",
   "language": "python",
   "name": "python3"
  },
  "language_info": {
   "codemirror_mode": {
    "name": "ipython",
    "version": 3
   },
   "file_extension": ".py",
   "mimetype": "text/x-python",
   "name": "python",
   "nbconvert_exporter": "python",
   "pygments_lexer": "ipython3",
   "version": "3.7.1"
  }
 },
 "nbformat": 4,
 "nbformat_minor": 4
}
